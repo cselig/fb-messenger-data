{
 "cells": [
  {
   "cell_type": "code",
   "execution_count": null,
   "metadata": {},
   "outputs": [],
   "source": [
    "import json\n",
    "import os\n",
    "import datetime as dt\n",
    "from dateutil.relativedelta import relativedelta\n",
    "from glob import glob\n",
    "from pprint import pprint\n",
    "\n",
    "import fbchat\n",
    "import pandas as pd"
   ]
  },
  {
   "cell_type": "code",
   "execution_count": null,
   "metadata": {},
   "outputs": [],
   "source": [
    "creds = json.load(open(\"./local/creds.json\"))\n",
    "client = fbchat.Client(creds[\"id\"], creds[\"password\"])"
   ]
  },
  {
   "cell_type": "code",
   "execution_count": null,
   "metadata": {},
   "outputs": [],
   "source": [
    "def ts_to_dt(ts):\n",
    "    ts = int(ts)\n",
    "    # assume ms if > 2025\n",
    "    if ts > 1735718400:\n",
    "        ts /= 1000\n",
    "    return dt.datetime.fromtimestamp(ts).date()"
   ]
  },
  {
   "cell_type": "code",
   "execution_count": null,
   "metadata": {},
   "outputs": [],
   "source": [
    "def get_df_api(friend):\n",
    "    \"\"\"Get message data from the FB messenger API (which seems buggy)\n",
    "    \"\"\"\n",
    "    # messages after this date won't be included\n",
    "    before_ts = dt.datetime.timestamp(dt.datetime(2019, 12, 20)) * 1000\n",
    "\n",
    "    friend_obj, = client.searchForUsers(friend, 1)\n",
    "    assert friend_obj.is_friend\n",
    "    thread_info = client.fetchThreadInfo(friend_obj.uid)\n",
    "    num_messages = thread_info[friend_obj.uid].message_count\n",
    "    print(num_messages, \" messages\")\n",
    "    messages = client.fetchThreadMessages(friend_obj.uid, limit=num_messages)\n",
    "\n",
    "    min_month = ts_to_dt(messages[-1].timestamp).replace(day=1)\n",
    "    max_month = ts_to_dt(messages[0].timestamp).replace(day=1)\n",
    "\n",
    "    date = min_month\n",
    "    end = max_month\n",
    "    dates = []\n",
    "    while date <= max_month:\n",
    "        dates.append(date)\n",
    "        date += relativedelta(months=1)\n",
    "\n",
    "    counts = []\n",
    "    for date in dates:\n",
    "        count = len([x for x in messages if date == ts_to_dt(x.timestamp).replace(day=1)])\n",
    "        counts.append(count)\n",
    "        date += relativedelta(months=1)\n",
    "\n",
    "    df = pd.DataFrame(counts, index=dates)\n",
    "    return df"
   ]
  },
  {
   "cell_type": "code",
   "execution_count": null,
   "metadata": {},
   "outputs": [],
   "source": [
    "data_dir = os.path.join(os.path.expanduser(<your fb data location>), \"messages/inbox\")\n",
    "\n",
    "def get_df_files(friend):\n",
    "    \"\"\"Get message data from downloaded FB data dump\n",
    "    \"\"\"\n",
    "    for x in os.listdir(data_dir):\n",
    "        # not 100% correct: group chats can start with someone's name\n",
    "        if x.lower().startswith(friend.replace(\" \", \"\").lower()):\n",
    "            dir_ = x\n",
    "            break\n",
    "    print(dir_)\n",
    "\n",
    "    files = glob(os.path.join(data_dir, dir_, \"message_*.json\"))\n",
    "\n",
    "    messages = []\n",
    "    for file in sorted(files):\n",
    "        blob = json.load(open(file))\n",
    "        messages += blob[\"messages\"]\n",
    "\n",
    "    min_month = ts_to_dt(messages[-1][\"timestamp_ms\"]).replace(day=1)\n",
    "    max_month = ts_to_dt(messages[0][\"timestamp_ms\"]).replace(day=1)\n",
    "\n",
    "    date = min_month\n",
    "    end = max_month\n",
    "    dates = []\n",
    "    while date <= max_month:\n",
    "        dates.append(date)\n",
    "        date += relativedelta(months=1)\n",
    "\n",
    "    counts = []\n",
    "    for date in dates:\n",
    "        count = len([x for x in messages if date == ts_to_dt(x[\"timestamp_ms\"]).replace(day=1)])\n",
    "        counts.append(count)\n",
    "        date += relativedelta(months=1)\n",
    "\n",
    "    df = pd.DataFrame(counts, index=dates)\n",
    "    return df"
   ]
  },
  {
   "cell_type": "code",
   "execution_count": null,
   "metadata": {
    "scrolled": true
   },
   "outputs": [],
   "source": [
    "get_df_files(<friend name here>).plot()"
   ]
  }
 ],
 "metadata": {
  "kernelspec": {
   "display_name": "Python 3",
   "language": "python",
   "name": "python3"
  },
  "language_info": {
   "codemirror_mode": {
    "name": "ipython",
    "version": 3
   },
   "file_extension": ".py",
   "mimetype": "text/x-python",
   "name": "python",
   "nbconvert_exporter": "python",
   "pygments_lexer": "ipython3",
   "version": "3.6.0"
  }
 },
 "nbformat": 4,
 "nbformat_minor": 2
}
